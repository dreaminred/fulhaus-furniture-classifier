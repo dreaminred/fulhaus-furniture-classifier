{
 "cells": [
  {
   "cell_type": "code",
   "execution_count": 3,
   "id": "1543f658",
   "metadata": {},
   "outputs": [],
   "source": [
    "%matplotlib inline\n",
    "import pandas as pd\n",
    "from glob import glob\n",
    "import matplotlib.pyplot as plt\n",
    "from PIL import Image\n",
    "from skimage import io, color, transform\n",
    "import tensorflow as tf\n",
    "import numpy as np\n",
    "import os\n",
    "from pathlib import Path\n",
    "from sklearn.model_selection import train_test_split"
   ]
  },
  {
   "cell_type": "code",
   "execution_count": 1,
   "id": "8728f9f2",
   "metadata": {},
   "outputs": [],
   "source": [
    "import skimage\n",
    "import cv2"
   ]
  },
  {
   "cell_type": "code",
   "execution_count": 2,
   "id": "94effdda",
   "metadata": {},
   "outputs": [
    {
     "data": {
      "text/plain": [
       "array([[[255, 255, 255],\n",
       "        [255, 255, 255],\n",
       "        [255, 255, 255],\n",
       "        ...,\n",
       "        [255, 255, 255],\n",
       "        [255, 255, 255],\n",
       "        [255, 255, 255]],\n",
       "\n",
       "       [[255, 255, 255],\n",
       "        [255, 255, 255],\n",
       "        [255, 255, 255],\n",
       "        ...,\n",
       "        [255, 255, 255],\n",
       "        [255, 255, 255],\n",
       "        [255, 255, 255]],\n",
       "\n",
       "       [[255, 255, 255],\n",
       "        [255, 255, 255],\n",
       "        [255, 255, 255],\n",
       "        ...,\n",
       "        [255, 255, 255],\n",
       "        [255, 255, 255],\n",
       "        [255, 255, 255]],\n",
       "\n",
       "       ...,\n",
       "\n",
       "       [[255, 255, 255],\n",
       "        [255, 255, 255],\n",
       "        [255, 255, 255],\n",
       "        ...,\n",
       "        [255, 255, 255],\n",
       "        [255, 255, 255],\n",
       "        [255, 255, 255]],\n",
       "\n",
       "       [[255, 255, 255],\n",
       "        [255, 255, 255],\n",
       "        [255, 255, 255],\n",
       "        ...,\n",
       "        [255, 255, 255],\n",
       "        [255, 255, 255],\n",
       "        [255, 255, 255]],\n",
       "\n",
       "       [[255, 255, 255],\n",
       "        [255, 255, 255],\n",
       "        [255, 255, 255],\n",
       "        ...,\n",
       "        [255, 255, 255],\n",
       "        [255, 255, 255],\n",
       "        [255, 255, 255]]], dtype=uint8)"
      ]
     },
     "execution_count": 2,
     "metadata": {},
     "output_type": "execute_result"
    }
   ],
   "source": [
    "cv2.imread('dataset2/train/Bed/140 cm double bed.jpg')"
   ]
  },
  {
   "cell_type": "markdown",
   "id": "38c115bf",
   "metadata": {},
   "source": [
    "# Exploratory analysis"
   ]
  },
  {
   "cell_type": "code",
   "execution_count": 2,
   "id": "45525345",
   "metadata": {},
   "outputs": [],
   "source": [
    "#Read in filepaths\n",
    "bed_filenames = glob(\"dataset/Bed/*.jpg\")\n",
    "chair_filenames = glob(\"dataset/Chair/*.jpg\")\n",
    "sofa_filenames = glob(\"dataset/Sofa/*.jpg\")"
   ]
  },
  {
   "cell_type": "code",
   "execution_count": 3,
   "id": "0658b185",
   "metadata": {
    "scrolled": true
   },
   "outputs": [],
   "source": [
    "#Check for image types other than RGB\n",
    "for file in bed_filenames:\n",
    "    image = Image.open(file)\n",
    "    if image.mode != \"RGB\":\n",
    "        print(image.mode)\n",
    "\n",
    "for file in chair_filenames:\n",
    "    image = Image.open(file)\n",
    "    if image.mode != \"RGB\":\n",
    "        print(image.mode)        \n",
    "\n",
    "for file in sofa_filenames:\n",
    "    image = Image.open(file)\n",
    "    if image.mode != \"RGB\":\n",
    "        print(image.mode)"
   ]
  },
  {
   "cell_type": "markdown",
   "id": "5f664842",
   "metadata": {},
   "source": [
    "# Rearranging Files"
   ]
  },
  {
   "cell_type": "code",
   "execution_count": 82,
   "id": "c9a26d3f",
   "metadata": {},
   "outputs": [],
   "source": [
    "labels_bed = [\"bed\"] * 100\n",
    "X_training_set_bed, X_testing_set_bed_, y_training_bed, y_testing_bed_ = train_test_split(bed_filenames, \n",
    "                                                                                       labels_bed, \n",
    "                                                                                       test_size=0.3,\n",
    "                                                                                       random_state=42)\n",
    "X_testing_set_bed, X_validation_set_bed, y_testing_bed, y_validation_bed = train_test_split(X_testing_set_bed_, \n",
    "                                                                                       y_testing_bed_, \n",
    "                                                                                       test_size=0.3,\n",
    "                                                                                       random_state=42)\n"
   ]
  },
  {
   "cell_type": "code",
   "execution_count": 83,
   "id": "fee9554a",
   "metadata": {},
   "outputs": [],
   "source": [
    "training_dir = \"dataset2/train/Bed\\\\\"\n",
    "\n",
    "for filename in X_training_set_bed:\n",
    "    nameIndex = filename.rfind('\\\\') # used for saving file names\n",
    "    im_name = filename[nameIndex+1:]\n",
    "    save_path = training_dir + im_name\n",
    "    im = io.imread(filename)\n",
    "    io.imsave(save_path,im)\n",
    "    \n",
    "testing_dir = \"dataset2/test/Bed\\\\\"\n",
    "\n",
    "for filename in X_testing_set_bed:\n",
    "    nameIndex = filename.rfind('\\\\') # used for saving file names\n",
    "    im_name = filename[nameIndex+1:]\n",
    "    save_path = testing_dir + im_name\n",
    "    im = io.imread(filename)\n",
    "    io.imsave(save_path,im)\n",
    "\n",
    "validation_dir = \"dataset2/validate/Bed\\\\\"\n",
    "\n",
    "for filename in X_validation_set_bed:\n",
    "    nameIndex = filename.rfind('\\\\') # used for saving file names\n",
    "    im_name = filename[nameIndex+1:]\n",
    "    save_path = validation_dir + im_name\n",
    "    im = io.imread(filename)\n",
    "    io.imsave(save_path,im)      "
   ]
  },
  {
   "cell_type": "code",
   "execution_count": 84,
   "id": "31f8dfde",
   "metadata": {},
   "outputs": [],
   "source": [
    "labels_chair = [\"chair\"] * 100\n",
    "X_training_set_chair, X_testing_set_chair_, y_training_chair, y_testing_chair_ = train_test_split(chair_filenames, \n",
    "                                                                                       labels_chair, \n",
    "                                                                                       test_size=0.3,\n",
    "                                                                                       random_state=42)\n",
    "X_testing_set_chair, X_validation_set_chair, y_testing_chair, y_validation_chair = train_test_split(X_testing_set_chair_, \n",
    "                                                                                       y_testing_chair_, \n",
    "                                                                                       test_size=0.3,\n",
    "                                                                                       random_state=42)"
   ]
  },
  {
   "cell_type": "code",
   "execution_count": 85,
   "id": "4567adbd",
   "metadata": {},
   "outputs": [],
   "source": [
    "training_dir = \"dataset2/train/Chair\\\\\"\n",
    "\n",
    "for filename in X_training_set_chair:\n",
    "    nameIndex = filename.rfind('\\\\') # used for saving file names\n",
    "    im_name = filename[nameIndex+1:]\n",
    "    save_path = training_dir + im_name\n",
    "    im = io.imread(filename)\n",
    "    io.imsave(save_path,im)\n",
    "    \n",
    "testing_dir = \"dataset2/test/Chair\\\\\"\n",
    "\n",
    "for filename in X_testing_set_chair:\n",
    "    nameIndex = filename.rfind('\\\\') # used for saving file names\n",
    "    im_name = filename[nameIndex+1:]\n",
    "    save_path = testing_dir + im_name\n",
    "    im = io.imread(filename)\n",
    "    io.imsave(save_path,im)\n",
    "\n",
    "validation_dir = \"dataset2/validate/Chair\\\\\"\n",
    "\n",
    "for filename in X_validation_set_chair:\n",
    "    nameIndex = filename.rfind('\\\\') # used for saving file names\n",
    "    im_name = filename[nameIndex+1:]\n",
    "    save_path = validation_dir + im_name\n",
    "    im = io.imread(filename)\n",
    "    io.imsave(save_path,im)      "
   ]
  },
  {
   "cell_type": "code",
   "execution_count": 86,
   "id": "4f2d9252",
   "metadata": {},
   "outputs": [],
   "source": [
    "labels_sofa = [\"sofa\"] * 100\n",
    "X_training_set_sofa, X_testing_set_sofa_, y_training_bed, y_testing_bed_ = train_test_split(sofa_filenames, \n",
    "                                                                                       labels_sofa, \n",
    "                                                                                       test_size=0.3,\n",
    "                                                                                       random_state=42)\n",
    "X_testing_set_sofa, X_validation_set_sofa, y_testing_sofa, y_validation_sofa = train_test_split(X_testing_set_sofa_, \n",
    "                                                                                       y_testing_bed_, \n",
    "                                                                                       test_size=0.3,\n",
    "                                                                                       random_state=42)"
   ]
  },
  {
   "cell_type": "code",
   "execution_count": 87,
   "id": "cf2cb0cb",
   "metadata": {},
   "outputs": [],
   "source": [
    "training_dir = \"dataset2/train/Sofa\\\\\"\n",
    "\n",
    "for filename in X_training_set_sofa:\n",
    "    nameIndex = filename.rfind('\\\\') # used for saving file names\n",
    "    im_name = filename[nameIndex+1:]\n",
    "    save_path = training_dir + im_name\n",
    "    im = io.imread(filename)\n",
    "    io.imsave(save_path,im)\n",
    "    \n",
    "testing_dir = \"dataset2/test/Sofa\\\\\"\n",
    "\n",
    "for filename in X_testing_set_sofa:\n",
    "    nameIndex = filename.rfind('\\\\') # used for saving file names\n",
    "    im_name = filename[nameIndex+1:]\n",
    "    save_path = testing_dir + im_name\n",
    "    im = io.imread(filename)\n",
    "    io.imsave(save_path,im)\n",
    "\n",
    "validation_dir = \"dataset2/validate/Sofa\\\\\"\n",
    "\n",
    "for filename in X_validation_set_sofa:\n",
    "    nameIndex = filename.rfind('\\\\') # used for saving file names\n",
    "    im_name = filename[nameIndex+1:]\n",
    "    save_path = validation_dir + im_name\n",
    "    im = io.imread(filename)\n",
    "    io.imsave(save_path,im)      "
   ]
  },
  {
   "cell_type": "markdown",
   "id": "aeefe695",
   "metadata": {},
   "source": [
    "# Generators"
   ]
  },
  {
   "cell_type": "code",
   "execution_count": 8,
   "id": "bf6efb95",
   "metadata": {},
   "outputs": [],
   "source": [
    "BATCH_SIZE = 20\n",
    "N_CLASSES = 3\n",
    "TOTAL_EPOCHS = 100"
   ]
  },
  {
   "cell_type": "code",
   "execution_count": 10,
   "id": "7f8295aa",
   "metadata": {},
   "outputs": [
    {
     "name": "stdout",
     "output_type": "stream",
     "text": [
      "Found 211 images belonging to 3 classes.\n",
      "Found 63 images belonging to 3 classes.\n"
     ]
    }
   ],
   "source": [
    "#Generators\n",
    "train_generator = tf.keras.preprocessing.image.ImageDataGenerator(\n",
    "    data_format='channels_last',\n",
    "    rescale=1. / 255,\n",
    "    rotation_range=40,\n",
    "    width_shift_range=0.2,\n",
    "    height_shift_range=0.2,\n",
    "    shear_range=0.2,\n",
    "    zoom_range=0.2,\n",
    "    horizontal_flip=True\n",
    ")\n",
    "\n",
    "train_batches = train_generator.flow_from_directory(\n",
    "    batch_size=BATCH_SIZE,\n",
    "    directory=\"dataset2/train\",\n",
    "    target_size=[224, 224],\n",
    "    class_mode='categorical'\n",
    ")\n",
    "\n",
    "val_batches = train_generator.flow_from_directory(\n",
    "    batch_size=BATCH_SIZE,\n",
    "    directory=\"dataset2/test/\",\n",
    "    target_size=[224, 224],\n",
    "    class_mode='categorical'\n",
    ")"
   ]
  },
  {
   "cell_type": "markdown",
   "id": "e01657b3",
   "metadata": {},
   "source": [
    "# Model"
   ]
  },
  {
   "cell_type": "code",
   "execution_count": 20,
   "id": "e939f522",
   "metadata": {},
   "outputs": [],
   "source": [
    "kernel_initializer = tf.keras.initializers.glorot_uniform(seed=1337)\n",
    "trained_model = tf.keras.applications.mobilenet_v2.MobileNetV2(\n",
    "                      include_top=False,\n",
    "                      weights='imagenet',\n",
    "                      alpha=0.5,\n",
    "                      input_shape=[224, 224, 3],\n",
    "                      pooling='max')\n",
    "output = tf.keras.layers.Dense(N_CLASSES, activation='softmax', kernel_initializer=kernel_initializer)(trained_model.output)\n",
    "model = tf.keras.Model(inputs=trained_model.input, outputs=output)"
   ]
  },
  {
   "cell_type": "code",
   "execution_count": 25,
   "id": "34835450",
   "metadata": {},
   "outputs": [
    {
     "name": "stdout",
     "output_type": "stream",
     "text": [
      "WARNING:tensorflow:`batch_size` is no longer needed in the `TensorBoard` Callback and will be ignored in TensorFlow 2.0.\n"
     ]
    }
   ],
   "source": [
    "# Callback to save weights, based on val_acc\n",
    "model_checkpoint_callback = tf.keras.callbacks.ModelCheckpoint(\n",
    "  './checkpoints/{epoch:02d}_{val_accuracy:.4f}.h5',\n",
    "  save_weights_only=False,\n",
    "  verbose=1,\n",
    "  monitor='val_accuracy',\n",
    "  save_best_only=True,\n",
    "  mode='max'\n",
    ")\n",
    "\n",
    "# Callbackto plot data on TensorBoard\n",
    "tensorboard_callback = tf.keras.callbacks.TensorBoard(\n",
    "  log_dir='./logs/furniture_classifier',\n",
    "  histogram_freq=0,\n",
    "  batch_size=BATCH_SIZE\n",
    ")\n",
    "\n",
    "reduce_lr_callback = tf.keras.callbacks.ReduceLROnPlateau(\n",
    "  monitor='val_accuracy',\n",
    "  factor=0.5,\n",
    "  patience=4,\n",
    "  min_lr=1e-6\n",
    ")\n",
    "\n",
    "early_stopping_callback = tf.keras.callbacks.EarlyStopping(\n",
    "  monitor='val_accuracy',\n",
    "  patience=20,\n",
    "  mode='max',\n",
    ")\n",
    "\n",
    "TRAIN_DATASET_SIZE = len(train_batches)\n",
    "VAL_DATASET_SIZE   = len(val_batches)\n",
    "\n",
    "# Weighted losses for class equilibrium\n",
    "unique, counts = np.unique(train_batches.classes, return_counts=True)\n",
    "class_weigths = dict(zip(unique, np.true_divide(counts.sum(), N_CLASSES*counts)))"
   ]
  },
  {
   "cell_type": "code",
   "execution_count": 26,
   "id": "8dbf38a1",
   "metadata": {},
   "outputs": [],
   "source": [
    "if Path('./checkpoints/').exists():\n",
    "    epoch_number_array = []\n",
    "    val_accuracy_array = []\n",
    "    file_name_array = []\n",
    "    for file in os.listdir('./checkpoints/'):\n",
    "        epoch, val_acc = re.search(r'(\\d\\d)_(\\d\\.\\d{4})\\.h5', file).group(1,2)\n",
    "        epoch_number_array.append(int(epoch))\n",
    "        val_accuracy_array.append(float(val_acc))\n",
    "        file_name_array.append(file)\n",
    "\n",
    "    if len(val_accuracy_array) == 0:\n",
    "        INITIAL_EPOCH = 0\n",
    "    else:\n",
    "        highest_acc = val_accuracy_array.index(max(val_accuracy_array))\n",
    "        INITIAL_EPOCH = epoch_number_array[highest_acc]\n",
    "        model_checkpoint_callback.best = val_accuracy_array[highest_acc]\n",
    "        model.load_weights('./checkpoints/'+file_name_array[highest_acc])\n",
    "else:\n",
    "    os.makedirs('./checkpoints/')\n",
    "    INITIAL_EPOCH = 0"
   ]
  },
  {
   "cell_type": "code",
   "execution_count": 27,
   "id": "25897a8e",
   "metadata": {},
   "outputs": [],
   "source": [
    "# Prepare model to run\n",
    "model.compile(optimizer = tf.keras.optimizers.Adam(),\n",
    "              loss = 'categorical_crossentropy',\n",
    "              metrics = ['accuracy']\n",
    "              )"
   ]
  },
  {
   "cell_type": "code",
   "execution_count": 28,
   "id": "4d4001a1",
   "metadata": {
    "scrolled": true
   },
   "outputs": [
    {
     "name": "stdout",
     "output_type": "stream",
     "text": [
      "Epoch 1/100\n",
      "\n",
      "Epoch 1: val_accuracy improved from -inf to 0.55556, saving model to ./checkpoints\\01_0.5556.h5\n",
      "11/11 - 36s - loss: 1.6233 - accuracy: 0.8104 - val_loss: 4.4317 - val_accuracy: 0.5556 - lr: 0.0010 - 36s/epoch - 3s/step\n",
      "Epoch 2/100\n",
      "\n",
      "Epoch 2: val_accuracy did not improve from 0.55556\n",
      "11/11 - 18s - loss: 1.2441 - accuracy: 0.8057 - val_loss: 4.6558 - val_accuracy: 0.3968 - lr: 0.0010 - 18s/epoch - 2s/step\n",
      "Epoch 3/100\n",
      "\n",
      "Epoch 3: val_accuracy did not improve from 0.55556\n",
      "11/11 - 17s - loss: 0.6802 - accuracy: 0.9194 - val_loss: 8.9222 - val_accuracy: 0.3651 - lr: 0.0010 - 17s/epoch - 2s/step\n",
      "Epoch 4/100\n",
      "\n",
      "Epoch 4: val_accuracy did not improve from 0.55556\n",
      "11/11 - 17s - loss: 0.5531 - accuracy: 0.9100 - val_loss: 4.8013 - val_accuracy: 0.4921 - lr: 0.0010 - 17s/epoch - 2s/step\n",
      "Epoch 5/100\n",
      "\n",
      "Epoch 5: val_accuracy did not improve from 0.55556\n",
      "11/11 - 17s - loss: 0.4314 - accuracy: 0.9336 - val_loss: 6.8588 - val_accuracy: 0.4286 - lr: 0.0010 - 17s/epoch - 2s/step\n",
      "Epoch 6/100\n",
      "\n",
      "Epoch 6: val_accuracy did not improve from 0.55556\n",
      "11/11 - 17s - loss: 0.3665 - accuracy: 0.9289 - val_loss: 6.0001 - val_accuracy: 0.4762 - lr: 5.0000e-04 - 17s/epoch - 2s/step\n",
      "Epoch 7/100\n",
      "\n",
      "Epoch 7: val_accuracy improved from 0.55556 to 0.76190, saving model to ./checkpoints\\07_0.7619.h5\n",
      "11/11 - 18s - loss: 0.3419 - accuracy: 0.9336 - val_loss: 1.5707 - val_accuracy: 0.7619 - lr: 5.0000e-04 - 18s/epoch - 2s/step\n",
      "Epoch 8/100\n",
      "\n",
      "Epoch 8: val_accuracy improved from 0.76190 to 0.77778, saving model to ./checkpoints\\08_0.7778.h5\n",
      "11/11 - 17s - loss: 0.3614 - accuracy: 0.9573 - val_loss: 1.1019 - val_accuracy: 0.7778 - lr: 5.0000e-04 - 17s/epoch - 2s/step\n",
      "Epoch 9/100\n",
      "\n",
      "Epoch 9: val_accuracy improved from 0.77778 to 0.79365, saving model to ./checkpoints\\09_0.7937.h5\n",
      "11/11 - 18s - loss: 0.3183 - accuracy: 0.9479 - val_loss: 1.3004 - val_accuracy: 0.7937 - lr: 5.0000e-04 - 18s/epoch - 2s/step\n",
      "Epoch 10/100\n",
      "\n",
      "Epoch 10: val_accuracy did not improve from 0.79365\n",
      "11/11 - 17s - loss: 0.1993 - accuracy: 0.9621 - val_loss: 1.3937 - val_accuracy: 0.7143 - lr: 5.0000e-04 - 17s/epoch - 2s/step\n",
      "Epoch 11/100\n",
      "\n",
      "Epoch 11: val_accuracy did not improve from 0.79365\n",
      "11/11 - 17s - loss: 0.0498 - accuracy: 0.9810 - val_loss: 1.0522 - val_accuracy: 0.6825 - lr: 5.0000e-04 - 17s/epoch - 2s/step\n",
      "Epoch 12/100\n",
      "\n",
      "Epoch 12: val_accuracy did not improve from 0.79365\n",
      "11/11 - 17s - loss: 0.2758 - accuracy: 0.9573 - val_loss: 1.9800 - val_accuracy: 0.6825 - lr: 5.0000e-04 - 17s/epoch - 2s/step\n",
      "Epoch 13/100\n",
      "\n",
      "Epoch 13: val_accuracy did not improve from 0.79365\n",
      "11/11 - 17s - loss: 0.1866 - accuracy: 0.9763 - val_loss: 3.7161 - val_accuracy: 0.6349 - lr: 5.0000e-04 - 17s/epoch - 2s/step\n",
      "Epoch 14/100\n",
      "\n",
      "Epoch 14: val_accuracy did not improve from 0.79365\n",
      "11/11 - 17s - loss: 0.0855 - accuracy: 0.9763 - val_loss: 3.2512 - val_accuracy: 0.6190 - lr: 2.5000e-04 - 17s/epoch - 2s/step\n",
      "Epoch 15/100\n",
      "\n",
      "Epoch 15: val_accuracy did not improve from 0.79365\n",
      "11/11 - 17s - loss: 0.1701 - accuracy: 0.9810 - val_loss: 1.8740 - val_accuracy: 0.7302 - lr: 2.5000e-04 - 17s/epoch - 2s/step\n",
      "Epoch 16/100\n",
      "\n",
      "Epoch 16: val_accuracy did not improve from 0.79365\n",
      "11/11 - 17s - loss: 0.0438 - accuracy: 0.9763 - val_loss: 1.8752 - val_accuracy: 0.7143 - lr: 2.5000e-04 - 17s/epoch - 2s/step\n",
      "Epoch 17/100\n",
      "\n",
      "Epoch 17: val_accuracy did not improve from 0.79365\n",
      "11/11 - 16s - loss: 0.0775 - accuracy: 0.9905 - val_loss: 1.4314 - val_accuracy: 0.7937 - lr: 2.5000e-04 - 16s/epoch - 1s/step\n",
      "Epoch 18/100\n",
      "\n",
      "Epoch 18: val_accuracy improved from 0.79365 to 0.80952, saving model to ./checkpoints\\18_0.8095.h5\n",
      "11/11 - 17s - loss: 0.0977 - accuracy: 0.9858 - val_loss: 1.7023 - val_accuracy: 0.8095 - lr: 1.2500e-04 - 17s/epoch - 2s/step\n",
      "Epoch 19/100\n",
      "\n",
      "Epoch 19: val_accuracy did not improve from 0.80952\n",
      "11/11 - 17s - loss: 0.0014 - accuracy: 1.0000 - val_loss: 1.2235 - val_accuracy: 0.8095 - lr: 1.2500e-04 - 17s/epoch - 2s/step\n",
      "Epoch 20/100\n",
      "\n",
      "Epoch 20: val_accuracy did not improve from 0.80952\n",
      "11/11 - 17s - loss: 0.0363 - accuracy: 0.9858 - val_loss: 1.0047 - val_accuracy: 0.8095 - lr: 1.2500e-04 - 17s/epoch - 2s/step\n",
      "Epoch 21/100\n",
      "\n",
      "Epoch 21: val_accuracy did not improve from 0.80952\n",
      "11/11 - 17s - loss: 5.5219e-04 - accuracy: 1.0000 - val_loss: 1.3647 - val_accuracy: 0.6984 - lr: 1.2500e-04 - 17s/epoch - 2s/step\n",
      "Epoch 22/100\n",
      "\n",
      "Epoch 22: val_accuracy did not improve from 0.80952\n",
      "11/11 - 17s - loss: 0.0810 - accuracy: 0.9763 - val_loss: 1.2448 - val_accuracy: 0.7778 - lr: 1.2500e-04 - 17s/epoch - 2s/step\n",
      "Epoch 23/100\n",
      "\n",
      "Epoch 23: val_accuracy did not improve from 0.80952\n",
      "11/11 - 17s - loss: 0.0583 - accuracy: 0.9858 - val_loss: 2.1115 - val_accuracy: 0.7143 - lr: 6.2500e-05 - 17s/epoch - 2s/step\n",
      "Epoch 24/100\n",
      "\n",
      "Epoch 24: val_accuracy did not improve from 0.80952\n",
      "11/11 - 17s - loss: 0.0020 - accuracy: 1.0000 - val_loss: 1.4758 - val_accuracy: 0.7143 - lr: 6.2500e-05 - 17s/epoch - 2s/step\n",
      "Epoch 25/100\n",
      "\n",
      "Epoch 25: val_accuracy did not improve from 0.80952\n",
      "11/11 - 17s - loss: 0.0066 - accuracy: 0.9953 - val_loss: 1.1976 - val_accuracy: 0.7778 - lr: 6.2500e-05 - 17s/epoch - 2s/step\n",
      "Epoch 26/100\n",
      "\n",
      "Epoch 26: val_accuracy improved from 0.80952 to 0.85714, saving model to ./checkpoints\\26_0.8571.h5\n",
      "11/11 - 17s - loss: 0.0734 - accuracy: 0.9858 - val_loss: 1.2115 - val_accuracy: 0.8571 - lr: 6.2500e-05 - 17s/epoch - 2s/step\n",
      "Epoch 27/100\n",
      "\n",
      "Epoch 27: val_accuracy did not improve from 0.85714\n",
      "11/11 - 17s - loss: 0.0728 - accuracy: 0.9905 - val_loss: 0.6023 - val_accuracy: 0.8413 - lr: 6.2500e-05 - 17s/epoch - 2s/step\n",
      "Epoch 28/100\n",
      "\n",
      "Epoch 28: val_accuracy improved from 0.85714 to 0.87302, saving model to ./checkpoints\\28_0.8730.h5\n",
      "11/11 - 17s - loss: 0.0414 - accuracy: 0.9858 - val_loss: 0.7446 - val_accuracy: 0.8730 - lr: 6.2500e-05 - 17s/epoch - 2s/step\n",
      "Epoch 29/100\n",
      "\n",
      "Epoch 29: val_accuracy did not improve from 0.87302\n",
      "11/11 - 18s - loss: 0.0168 - accuracy: 0.9905 - val_loss: 1.2036 - val_accuracy: 0.7778 - lr: 6.2500e-05 - 18s/epoch - 2s/step\n",
      "Epoch 30/100\n",
      "\n",
      "Epoch 30: val_accuracy did not improve from 0.87302\n",
      "11/11 - 17s - loss: 0.0037 - accuracy: 1.0000 - val_loss: 0.7119 - val_accuracy: 0.8571 - lr: 6.2500e-05 - 17s/epoch - 2s/step\n",
      "Epoch 31/100\n",
      "\n",
      "Epoch 31: val_accuracy did not improve from 0.87302\n",
      "11/11 - 17s - loss: 0.0175 - accuracy: 0.9905 - val_loss: 1.0320 - val_accuracy: 0.8571 - lr: 6.2500e-05 - 17s/epoch - 2s/step\n",
      "Epoch 32/100\n",
      "\n",
      "Epoch 32: val_accuracy did not improve from 0.87302\n",
      "11/11 - 17s - loss: 0.0275 - accuracy: 0.9905 - val_loss: 0.6710 - val_accuracy: 0.8730 - lr: 6.2500e-05 - 17s/epoch - 2s/step\n",
      "Epoch 33/100\n",
      "\n",
      "Epoch 33: val_accuracy did not improve from 0.87302\n",
      "11/11 - 17s - loss: 0.0562 - accuracy: 0.9953 - val_loss: 0.7120 - val_accuracy: 0.8730 - lr: 3.1250e-05 - 17s/epoch - 2s/step\n",
      "Epoch 34/100\n",
      "\n",
      "Epoch 34: val_accuracy improved from 0.87302 to 0.88889, saving model to ./checkpoints\\34_0.8889.h5\n",
      "11/11 - 17s - loss: 0.0242 - accuracy: 0.9905 - val_loss: 1.0667 - val_accuracy: 0.8889 - lr: 3.1250e-05 - 17s/epoch - 2s/step\n",
      "Epoch 35/100\n",
      "\n",
      "Epoch 35: val_accuracy did not improve from 0.88889\n",
      "11/11 - 17s - loss: 0.0870 - accuracy: 0.9858 - val_loss: 0.9439 - val_accuracy: 0.8889 - lr: 3.1250e-05 - 17s/epoch - 2s/step\n",
      "Epoch 36/100\n",
      "\n",
      "Epoch 36: val_accuracy did not improve from 0.88889\n",
      "11/11 - 17s - loss: 0.0504 - accuracy: 0.9905 - val_loss: 0.6838 - val_accuracy: 0.8571 - lr: 3.1250e-05 - 17s/epoch - 2s/step\n",
      "Epoch 37/100\n",
      "\n",
      "Epoch 37: val_accuracy did not improve from 0.88889\n",
      "11/11 - 17s - loss: 0.1225 - accuracy: 0.9905 - val_loss: 1.0476 - val_accuracy: 0.8095 - lr: 3.1250e-05 - 17s/epoch - 2s/step\n",
      "Epoch 38/100\n",
      "\n",
      "Epoch 38: val_accuracy did not improve from 0.88889\n",
      "11/11 - 16s - loss: 0.0018 - accuracy: 1.0000 - val_loss: 0.9643 - val_accuracy: 0.8413 - lr: 3.1250e-05 - 16s/epoch - 1s/step\n",
      "Epoch 39/100\n",
      "\n",
      "Epoch 39: val_accuracy improved from 0.88889 to 0.90476, saving model to ./checkpoints\\39_0.9048.h5\n",
      "11/11 - 17s - loss: 0.0180 - accuracy: 0.9953 - val_loss: 1.1345 - val_accuracy: 0.9048 - lr: 1.5625e-05 - 17s/epoch - 2s/step\n",
      "Epoch 40/100\n",
      "\n",
      "Epoch 40: val_accuracy did not improve from 0.90476\n",
      "11/11 - 17s - loss: 0.0079 - accuracy: 0.9953 - val_loss: 1.0938 - val_accuracy: 0.8571 - lr: 1.5625e-05 - 17s/epoch - 2s/step\n",
      "Epoch 41/100\n",
      "\n",
      "Epoch 41: val_accuracy did not improve from 0.90476\n",
      "11/11 - 17s - loss: 0.0373 - accuracy: 0.9858 - val_loss: 1.1496 - val_accuracy: 0.8571 - lr: 1.5625e-05 - 17s/epoch - 2s/step\n"
     ]
    },
    {
     "name": "stdout",
     "output_type": "stream",
     "text": [
      "Epoch 42/100\n",
      "\n",
      "Epoch 42: val_accuracy did not improve from 0.90476\n",
      "11/11 - 17s - loss: 0.0182 - accuracy: 0.9905 - val_loss: 1.1228 - val_accuracy: 0.8571 - lr: 1.5625e-05 - 17s/epoch - 2s/step\n",
      "Epoch 43/100\n",
      "\n",
      "Epoch 43: val_accuracy improved from 0.90476 to 0.92063, saving model to ./checkpoints\\43_0.9206.h5\n",
      "11/11 - 17s - loss: 0.0532 - accuracy: 0.9905 - val_loss: 0.5052 - val_accuracy: 0.9206 - lr: 1.5625e-05 - 17s/epoch - 2s/step\n",
      "Epoch 44/100\n",
      "\n",
      "Epoch 44: val_accuracy did not improve from 0.92063\n",
      "11/11 - 18s - loss: 0.0355 - accuracy: 0.9810 - val_loss: 0.4271 - val_accuracy: 0.8730 - lr: 1.5625e-05 - 18s/epoch - 2s/step\n",
      "Epoch 45/100\n",
      "\n",
      "Epoch 45: val_accuracy did not improve from 0.92063\n",
      "11/11 - 17s - loss: 0.0681 - accuracy: 0.9858 - val_loss: 0.7149 - val_accuracy: 0.8730 - lr: 1.5625e-05 - 17s/epoch - 2s/step\n",
      "Epoch 46/100\n",
      "\n",
      "Epoch 46: val_accuracy did not improve from 0.92063\n",
      "11/11 - 17s - loss: 0.0577 - accuracy: 0.9858 - val_loss: 0.8953 - val_accuracy: 0.8730 - lr: 1.5625e-05 - 17s/epoch - 2s/step\n",
      "Epoch 47/100\n",
      "\n",
      "Epoch 47: val_accuracy did not improve from 0.92063\n",
      "11/11 - 17s - loss: 2.0278e-04 - accuracy: 1.0000 - val_loss: 0.9229 - val_accuracy: 0.8889 - lr: 1.5625e-05 - 17s/epoch - 2s/step\n",
      "Epoch 48/100\n",
      "\n",
      "Epoch 48: val_accuracy did not improve from 0.92063\n",
      "11/11 - 17s - loss: 5.8646e-05 - accuracy: 1.0000 - val_loss: 0.6725 - val_accuracy: 0.8571 - lr: 7.8125e-06 - 17s/epoch - 2s/step\n",
      "Epoch 49/100\n",
      "\n",
      "Epoch 49: val_accuracy did not improve from 0.92063\n",
      "11/11 - 17s - loss: 0.0407 - accuracy: 0.9905 - val_loss: 0.5195 - val_accuracy: 0.9206 - lr: 7.8125e-06 - 17s/epoch - 2s/step\n",
      "Epoch 50/100\n",
      "\n",
      "Epoch 50: val_accuracy did not improve from 0.92063\n",
      "11/11 - 17s - loss: 0.0762 - accuracy: 0.9858 - val_loss: 0.7104 - val_accuracy: 0.8254 - lr: 7.8125e-06 - 17s/epoch - 2s/step\n",
      "Epoch 51/100\n",
      "\n",
      "Epoch 51: val_accuracy did not improve from 0.92063\n",
      "11/11 - 17s - loss: 0.0216 - accuracy: 0.9858 - val_loss: 0.5422 - val_accuracy: 0.8413 - lr: 7.8125e-06 - 17s/epoch - 2s/step\n",
      "Epoch 52/100\n",
      "\n",
      "Epoch 52: val_accuracy did not improve from 0.92063\n",
      "11/11 - 17s - loss: 0.0207 - accuracy: 0.9905 - val_loss: 0.5153 - val_accuracy: 0.9048 - lr: 3.9063e-06 - 17s/epoch - 2s/step\n",
      "Epoch 53/100\n",
      "\n",
      "Epoch 53: val_accuracy did not improve from 0.92063\n",
      "11/11 - 18s - loss: 0.0184 - accuracy: 0.9953 - val_loss: 0.5739 - val_accuracy: 0.9206 - lr: 3.9063e-06 - 18s/epoch - 2s/step\n",
      "Epoch 54/100\n",
      "\n",
      "Epoch 54: val_accuracy did not improve from 0.92063\n",
      "11/11 - 20s - loss: 0.0249 - accuracy: 0.9953 - val_loss: 0.6637 - val_accuracy: 0.8730 - lr: 3.9063e-06 - 20s/epoch - 2s/step\n",
      "Epoch 55/100\n",
      "\n",
      "Epoch 55: val_accuracy improved from 0.92063 to 0.95238, saving model to ./checkpoints\\55_0.9524.h5\n",
      "11/11 - 25s - loss: 0.0166 - accuracy: 0.9953 - val_loss: 0.4947 - val_accuracy: 0.9524 - lr: 3.9063e-06 - 25s/epoch - 2s/step\n",
      "Epoch 56/100\n",
      "\n",
      "Epoch 56: val_accuracy did not improve from 0.95238\n",
      "11/11 - 18s - loss: 0.0490 - accuracy: 0.9810 - val_loss: 0.3085 - val_accuracy: 0.9524 - lr: 3.9063e-06 - 18s/epoch - 2s/step\n",
      "Epoch 57/100\n",
      "\n",
      "Epoch 57: val_accuracy did not improve from 0.95238\n",
      "11/11 - 16s - loss: 0.0264 - accuracy: 0.9858 - val_loss: 0.6000 - val_accuracy: 0.8889 - lr: 3.9063e-06 - 16s/epoch - 1s/step\n",
      "Epoch 58/100\n",
      "\n",
      "Epoch 58: val_accuracy did not improve from 0.95238\n",
      "11/11 - 17s - loss: 0.0053 - accuracy: 0.9953 - val_loss: 0.3734 - val_accuracy: 0.9524 - lr: 3.9063e-06 - 17s/epoch - 2s/step\n",
      "Epoch 59/100\n",
      "\n",
      "Epoch 59: val_accuracy improved from 0.95238 to 0.96825, saving model to ./checkpoints\\59_0.9683.h5\n",
      "11/11 - 17s - loss: 0.0133 - accuracy: 0.9905 - val_loss: 0.4981 - val_accuracy: 0.9683 - lr: 3.9063e-06 - 17s/epoch - 2s/step\n",
      "Epoch 60/100\n",
      "\n",
      "Epoch 60: val_accuracy did not improve from 0.96825\n",
      "11/11 - 16s - loss: 8.2101e-04 - accuracy: 1.0000 - val_loss: 0.9412 - val_accuracy: 0.8571 - lr: 3.9063e-06 - 16s/epoch - 1s/step\n",
      "Epoch 61/100\n",
      "\n",
      "Epoch 61: val_accuracy did not improve from 0.96825\n",
      "11/11 - 17s - loss: 0.0021 - accuracy: 1.0000 - val_loss: 1.3896 - val_accuracy: 0.8730 - lr: 3.9063e-06 - 17s/epoch - 2s/step\n",
      "Epoch 62/100\n",
      "\n",
      "Epoch 62: val_accuracy did not improve from 0.96825\n",
      "11/11 - 16s - loss: 0.0346 - accuracy: 0.9858 - val_loss: 1.1421 - val_accuracy: 0.9206 - lr: 3.9063e-06 - 16s/epoch - 1s/step\n",
      "Epoch 63/100\n",
      "\n",
      "Epoch 63: val_accuracy did not improve from 0.96825\n",
      "11/11 - 16s - loss: 0.0319 - accuracy: 0.9905 - val_loss: 0.3620 - val_accuracy: 0.9048 - lr: 3.9063e-06 - 16s/epoch - 1s/step\n",
      "Epoch 64/100\n",
      "\n",
      "Epoch 64: val_accuracy did not improve from 0.96825\n",
      "11/11 - 16s - loss: 0.0666 - accuracy: 0.9858 - val_loss: 0.5125 - val_accuracy: 0.8889 - lr: 1.9531e-06 - 16s/epoch - 1s/step\n",
      "Epoch 65/100\n",
      "\n",
      "Epoch 65: val_accuracy did not improve from 0.96825\n",
      "11/11 - 16s - loss: 0.0439 - accuracy: 0.9905 - val_loss: 1.0020 - val_accuracy: 0.9206 - lr: 1.9531e-06 - 16s/epoch - 1s/step\n",
      "Epoch 66/100\n",
      "\n",
      "Epoch 66: val_accuracy did not improve from 0.96825\n",
      "11/11 - 16s - loss: 0.0383 - accuracy: 0.9810 - val_loss: 0.4525 - val_accuracy: 0.9206 - lr: 1.9531e-06 - 16s/epoch - 1s/step\n",
      "Epoch 67/100\n",
      "\n",
      "Epoch 67: val_accuracy did not improve from 0.96825\n",
      "11/11 - 17s - loss: 0.0073 - accuracy: 0.9953 - val_loss: 0.6874 - val_accuracy: 0.9048 - lr: 1.9531e-06 - 17s/epoch - 2s/step\n",
      "Epoch 68/100\n",
      "\n",
      "Epoch 68: val_accuracy did not improve from 0.96825\n",
      "11/11 - 16s - loss: 0.0045 - accuracy: 0.9953 - val_loss: 0.6343 - val_accuracy: 0.9048 - lr: 1.0000e-06 - 16s/epoch - 1s/step\n",
      "Epoch 69/100\n",
      "\n",
      "Epoch 69: val_accuracy did not improve from 0.96825\n",
      "11/11 - 16s - loss: 4.1672e-04 - accuracy: 1.0000 - val_loss: 0.7524 - val_accuracy: 0.9048 - lr: 1.0000e-06 - 16s/epoch - 1s/step\n",
      "Epoch 70/100\n",
      "\n",
      "Epoch 70: val_accuracy did not improve from 0.96825\n",
      "11/11 - 16s - loss: 0.0313 - accuracy: 0.9905 - val_loss: 1.5426 - val_accuracy: 0.8095 - lr: 1.0000e-06 - 16s/epoch - 1s/step\n",
      "Epoch 71/100\n",
      "\n",
      "Epoch 71: val_accuracy did not improve from 0.96825\n",
      "11/11 - 16s - loss: 0.1255 - accuracy: 0.9763 - val_loss: 0.5608 - val_accuracy: 0.9683 - lr: 1.0000e-06 - 16s/epoch - 1s/step\n",
      "Epoch 72/100\n",
      "\n",
      "Epoch 72: val_accuracy did not improve from 0.96825\n",
      "11/11 - 16s - loss: 0.0426 - accuracy: 0.9905 - val_loss: 0.9263 - val_accuracy: 0.9048 - lr: 1.0000e-06 - 16s/epoch - 1s/step\n",
      "Epoch 73/100\n",
      "\n",
      "Epoch 73: val_accuracy did not improve from 0.96825\n",
      "11/11 - 17s - loss: 0.0117 - accuracy: 0.9953 - val_loss: 1.0579 - val_accuracy: 0.8730 - lr: 1.0000e-06 - 17s/epoch - 2s/step\n",
      "Epoch 74/100\n",
      "\n",
      "Epoch 74: val_accuracy did not improve from 0.96825\n",
      "11/11 - 17s - loss: 0.0273 - accuracy: 0.9953 - val_loss: 0.9237 - val_accuracy: 0.8889 - lr: 1.0000e-06 - 17s/epoch - 2s/step\n",
      "Epoch 75/100\n",
      "\n",
      "Epoch 75: val_accuracy did not improve from 0.96825\n",
      "11/11 - 16s - loss: 0.0182 - accuracy: 0.9905 - val_loss: 0.3084 - val_accuracy: 0.9683 - lr: 1.0000e-06 - 16s/epoch - 1s/step\n",
      "Epoch 76/100\n",
      "\n",
      "Epoch 76: val_accuracy did not improve from 0.96825\n",
      "11/11 - 16s - loss: 7.9947e-04 - accuracy: 1.0000 - val_loss: 0.6761 - val_accuracy: 0.9206 - lr: 1.0000e-06 - 16s/epoch - 1s/step\n",
      "Epoch 77/100\n",
      "\n",
      "Epoch 77: val_accuracy did not improve from 0.96825\n",
      "11/11 - 16s - loss: 0.0200 - accuracy: 0.9905 - val_loss: 0.5173 - val_accuracy: 0.9524 - lr: 1.0000e-06 - 16s/epoch - 1s/step\n",
      "Epoch 78/100\n",
      "\n",
      "Epoch 78: val_accuracy did not improve from 0.96825\n",
      "11/11 - 16s - loss: 0.0099 - accuracy: 0.9953 - val_loss: 0.4172 - val_accuracy: 0.9683 - lr: 1.0000e-06 - 16s/epoch - 1s/step\n",
      "Epoch 79/100\n",
      "\n",
      "Epoch 79: val_accuracy did not improve from 0.96825\n",
      "11/11 - 16s - loss: 0.0164 - accuracy: 0.9905 - val_loss: 0.7274 - val_accuracy: 0.9206 - lr: 1.0000e-06 - 16s/epoch - 1s/step\n"
     ]
    },
    {
     "data": {
      "text/plain": [
       "<keras.callbacks.History at 0x1969d9cf6d0>"
      ]
     },
     "execution_count": 28,
     "metadata": {},
     "output_type": "execute_result"
    }
   ],
   "source": [
    "# Starts training the model\n",
    "model.fit(train_batches,\n",
    "                    epochs=TOTAL_EPOCHS,\n",
    "                    verbose=2,\n",
    "                    steps_per_epoch=TRAIN_DATASET_SIZE,\n",
    "                    validation_data=val_batches,\n",
    "                    validation_steps=VAL_DATASET_SIZE,\n",
    "                    initial_epoch=INITIAL_EPOCH,\n",
    "                    class_weight=class_weigths,\n",
    "                    callbacks=[model_checkpoint_callback, tensorboard_callback, reduce_lr_callback, early_stopping_callback]\n",
    "                    )"
   ]
  },
  {
   "cell_type": "code",
   "execution_count": 84,
   "id": "17cb705e",
   "metadata": {},
   "outputs": [
    {
     "name": "stderr",
     "output_type": "stream",
     "text": [
      "WARNING:absl:Found untraced functions such as _jit_compiled_convolution_op, _jit_compiled_convolution_op, _jit_compiled_convolution_op, _jit_compiled_convolution_op, _jit_compiled_convolution_op while saving (showing 5 of 53). These functions will not be directly callable after loading.\n"
     ]
    },
    {
     "name": "stdout",
     "output_type": "stream",
     "text": [
      "INFO:tensorflow:Assets written to: ./checkpoints/finalcheckpoint\\assets\n"
     ]
    },
    {
     "name": "stderr",
     "output_type": "stream",
     "text": [
      "INFO:tensorflow:Assets written to: ./checkpoints/finalcheckpoint\\assets\n"
     ]
    }
   ],
   "source": [
    "model.save('./checkpoints/finalcheckpoint')"
   ]
  },
  {
   "cell_type": "markdown",
   "id": "5bc62bec",
   "metadata": {},
   "source": [
    "# Model Evaluation"
   ]
  },
  {
   "cell_type": "code",
   "execution_count": 6,
   "id": "90df74aa",
   "metadata": {
    "scrolled": false
   },
   "outputs": [
    {
     "ename": "AttributeError",
     "evalue": "'_UserObject' object has no attribute 'predict'",
     "output_type": "error",
     "traceback": [
      "\u001b[1;31m---------------------------------------------------------------------------\u001b[0m",
      "\u001b[1;31mAttributeError\u001b[0m                            Traceback (most recent call last)",
      "Input \u001b[1;32mIn [6]\u001b[0m, in \u001b[0;36m<cell line: 4>\u001b[1;34m()\u001b[0m\n\u001b[0;32m      5\u001b[0m im \u001b[38;5;241m=\u001b[39m cv2\u001b[38;5;241m.\u001b[39mimread(validation_files[fileCounter])\n\u001b[0;32m      6\u001b[0m plt\u001b[38;5;241m.\u001b[39msubplot(\u001b[38;5;241m6\u001b[39m,\u001b[38;5;241m6\u001b[39m,fileCounter\u001b[38;5;241m+\u001b[39m\u001b[38;5;241m1\u001b[39m)\n\u001b[1;32m----> 7\u001b[0m plt\u001b[38;5;241m.\u001b[39mgca()\u001b[38;5;241m.\u001b[39mset_title(labels[np\u001b[38;5;241m.\u001b[39margmax(\u001b[43mmodel\u001b[49m\u001b[38;5;241;43m.\u001b[39;49m\u001b[43mpredict\u001b[49m(tf\u001b[38;5;241m.\u001b[39mexpand_dims(transform\u001b[38;5;241m.\u001b[39mresize(im,(\u001b[38;5;241m224\u001b[39m,\u001b[38;5;241m224\u001b[39m)),axis\u001b[38;5;241m=\u001b[39m\u001b[38;5;241m0\u001b[39m)))])\n\u001b[0;32m      8\u001b[0m io\u001b[38;5;241m.\u001b[39mimshow(im)\n",
      "\u001b[1;31mAttributeError\u001b[0m: '_UserObject' object has no attribute 'predict'"
     ]
    },
    {
     "data": {
      "image/png": "[encoded data removed]",
      "text/plain": [
       "<Figure size 1440x1440 with 1 Axes>"
      ]
     },
     "metadata": {
      "needs_background": "light"
     },
     "output_type": "display_data"
    }
   ],
   "source": [
    "plt.figure(figsize=(20,20))\n",
    "labels = ['Bed', 'Chair', 'Sofa']\n",
    "validation_files = glob(\"dataset2/validate/*/*.jpg\")\n",
    "for fileCounter in range(len(validation_files)):\n",
    "    im = cv2.imread(validation_files[fileCounter])\n",
    "    plt.subplot(6,6,fileCounter+1)\n",
    "    plt.gca().set_title(labels[np.argmax(model.predict(tf.expand_dims(transform.resize(im,(224,224)),axis=0)))])\n",
    "    io.imshow(im)"
   ]
  },
  {
   "cell_type": "code",
   "execution_count": 92,
   "id": "482f441b",
   "metadata": {},
   "outputs": [
    {
     "name": "stderr",
     "output_type": "stream",
     "text": [
      "WARNING:absl:Found untraced functions such as _jit_compiled_convolution_op, _jit_compiled_convolution_op, _jit_compiled_convolution_op, _jit_compiled_convolution_op, _jit_compiled_convolution_op while saving (showing 5 of 53). These functions will not be directly callable after loading.\n"
     ]
    },
    {
     "name": "stdout",
     "output_type": "stream",
     "text": [
      "INFO:tensorflow:Assets written to: checkpoints/model-0-1-0\\assets\n"
     ]
    },
    {
     "name": "stderr",
     "output_type": "stream",
     "text": [
      "INFO:tensorflow:Assets written to: checkpoints/model-0-1-0\\assets\n"
     ]
    }
   ],
   "source": [
    "tf.saved_model.save(model, \"checkpoints/model-0-1-0\")"
   ]
  },
  {
   "cell_type": "code",
   "execution_count": 11,
   "id": "70d01fbf",
   "metadata": {},
   "outputs": [],
   "source": [
    "model = tf.keras.models.load_model('checkpoints/59_0.9683.h5')"
   ]
  },
  {
   "cell_type": "code",
   "execution_count": 12,
   "id": "6cab3b4a",
   "metadata": {},
   "outputs": [
    {
     "data": {
      "text/plain": [
       "<keras.engine.functional.Functional at 0x14ee6b20820>"
      ]
     },
     "execution_count": 12,
     "metadata": {},
     "output_type": "execute_result"
    }
   ],
   "source": []
  },
  {
   "cell_type": "code",
   "execution_count": 94,
   "id": "686589e6",
   "metadata": {},
   "outputs": [],
   "source": [
    "im = io.imread(validation_files[0])"
   ]
  },
  {
   "cell_type": "code",
   "execution_count": 96,
   "id": "04815078",
   "metadata": {},
   "outputs": [
    {
     "data": {
      "text/plain": [
       "numpy.ndarray"
      ]
     },
     "execution_count": 96,
     "metadata": {},
     "output_type": "execute_result"
    }
   ],
   "source": [
    "model."
   ]
  },
  {
   "cell_type": "code",
   "execution_count": 99,
   "id": "3a794a9d",
   "metadata": {},
   "outputs": [
    {
     "data": {
      "text/plain": [
       "'2.11.0'"
      ]
     },
     "execution_count": 99,
     "metadata": {},
     "output_type": "execute_result"
    }
   ],
   "source": [
    "tf.__version__"
   ]
  },
  {
   "cell_type": "code",
   "execution_count": 98,
   "id": "5d7a2b9c",
   "metadata": {},
   "outputs": [
    {
     "data": {
      "text/plain": [
       "str"
      ]
     },
     "execution_count": 98,
     "metadata": {},
     "output_type": "execute_result"
    }
   ],
   "source": [
    "str"
   ]
  },
  {
   "cell_type": "code",
   "execution_count": null,
   "id": "ed7632ef",
   "metadata": {},
   "outputs": [],
   "source": []
  }
 ],
 "metadata": {
  "kernelspec": {
   "display_name": "Python 3 (ipykernel)",
   "language": "python",
   "name": "python3"
  },
  "language_info": {
   "codemirror_mode": {
    "name": "ipython",
    "version": 3
   },
   "file_extension": ".py",
   "mimetype": "text/x-python",
   "name": "python",
   "nbconvert_exporter": "python",
   "pygments_lexer": "ipython3",
   "version": "3.9.12"
  },
  "toc": {
   "base_numbering": 1,
   "nav_menu": {},
   "number_sections": true,
   "sideBar": true,
   "skip_h1_title": false,
   "title_cell": "Table of Contents",
   "title_sidebar": "Contents",
   "toc_cell": false,
   "toc_position": {},
   "toc_section_display": true,
   "toc_window_display": false
  },
  "varInspector": {
   "cols": {
    "lenName": 16,
    "lenType": 16,
    "lenVar": 40
   },
   "kernels_config": {
    "python": {
     "delete_cmd_postfix": "",
     "delete_cmd_prefix": "del ",
     "library": "var_list.py",
     "varRefreshCmd": "print(var_dic_list())"
    },
    "r": {
     "delete_cmd_postfix": ") ",
     "delete_cmd_prefix": "rm(",
     "library": "var_list.r",
     "varRefreshCmd": "cat(var_dic_list()) "
    }
   },
   "types_to_exclude": [
    "module",
    "function",
    "builtin_function_or_method",
    "instance",
    "_Feature"
   ],
   "window_display": false
  }
 },
 "nbformat": 4,
 "nbformat_minor": 5
}
